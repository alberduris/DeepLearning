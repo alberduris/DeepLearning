{
 "cells": [
  {
   "cell_type": "markdown",
   "metadata": {},
   "source": [
    "# Vanilla RNN - Tensorflow API - Dynamic - Predicting binary sequences\n",
    "\n",
    "In this notebook we will implement the **same** model of ``\"VanillaRNN_Tensorflow.ipynb\"`` but using the **Tensorflow RNN Dynamic API**\n",
    "\n",
    "In the other two notebooks, we added every node for every timestep to the graph before execution. This is called “static” construction. \n",
    "\n",
    "We could also let Tensorflow dynamically create the graph at execution time, which can be more efficient. \n",
    "\n",
    "To do this, instead of using a list of tensors (of length num_steps and shape  [batch_size, features]), we keep everything in a single 3-dimnesional tensor of shape  [batch_size, num_steps, features], and use Tensorflow’s ``dynamic_rnn`` function. \n",
    "\n",
    "<a href=\"https://r2rt.com/recurrent-neural-networks-in-tensorflow-i.html#using-a-dynamic-rnn\">[Ref]</a>\n",
    "\n",
    "Only four cells are different, they will be distinguished with a separator line like this ▽\n",
    "\n",
    "---"
   ]
  },
  {
   "cell_type": "code",
   "execution_count": 1,
   "metadata": {
    "collapsed": true
   },
   "outputs": [],
   "source": [
    "import numpy as np\n",
    "import tensorflow as tf\n",
    "%matplotlib inline\n",
    "import matplotlib.pyplot as plt"
   ]
  },
  {
   "cell_type": "markdown",
   "metadata": {},
   "source": [
    "## Hyperparameters"
   ]
  },
  {
   "cell_type": "code",
   "execution_count": 2,
   "metadata": {
    "collapsed": true
   },
   "outputs": [],
   "source": [
    "NUM_OBSERVATIONS = 10000\n",
    "\n",
    "NUM_STEPS = 10 #Number of truncated backprop steps\n",
    "BATCH_SIZE = 3\n",
    "NUM_CLASSES = 2 #Binary problem\n",
    "\n",
    "STATE_SIZE = 16\n",
    "\n",
    "LEARNING_RATE = 0.1\n",
    "\n",
    "DISPLAY_FREQ = NUM_OBSERVATIONS//NUM_STEPS//BATCH_SIZE//10"
   ]
  },
  {
   "cell_type": "code",
   "execution_count": 3,
   "metadata": {},
   "outputs": [
    {
     "name": "stdout",
     "output_type": "stream",
     "text": [
      "With current configuration 333 batches per epoch\n"
     ]
    }
   ],
   "source": [
    "print('With current configuration %d batches per epoch' % (NUM_OBSERVATIONS//NUM_STEPS//BATCH_SIZE))"
   ]
  },
  {
   "cell_type": "markdown",
   "metadata": {},
   "source": [
    "## Functions"
   ]
  },
  {
   "cell_type": "markdown",
   "metadata": {},
   "source": [
    "**Gen data:**\n",
    "- Input sequence (X): At time step t, Xt has a 50% chance of being 1 (and a 50% chance of being 0). E.g., X might be [1, 0, 0, 1, 1, 1 … ].\n",
    "- Output sequence (Y):At time step t, Yt has a base 50% chance of being 1 (and a 50% base chance to be 0). The chance of Yt being 1 is increased by 50% (i.e., to 100%) if Xt-3 is 1, and decreased by 25% (i.e., to 25%) if Xt-8 is 1. If both Xt-3 and Xt-8 are 1 the chance of Yt being 1 is 50% + 50% - 25%= 75%"
   ]
  },
  {
   "cell_type": "code",
   "execution_count": 4,
   "metadata": {
    "collapsed": true
   },
   "outputs": [],
   "source": [
    "def gen_data(size=NUM_OBSERVATIONS):\n",
    "    X = np.array(np.random.choice(2,size=(size,))) #Random binary array of size 'size'\n",
    "    Y = [] #Targets\n",
    "    \n",
    "    for i in range(size):\n",
    "        threshold = 0.5\n",
    "        if X[i-3] == 1: #First dependency at t-3\n",
    "            threshold += 0.5 \n",
    "        if X[i-8] == 1:\n",
    "            threshold -= 0.25\n",
    "        if np.random.rand() > threshold:\n",
    "            Y.append(0)\n",
    "        else:\n",
    "            Y.append(1)\n",
    "            \n",
    "    return X,np.array(Y)\n",
    "\n",
    "def gen_batch(raw_data,batch_size,num_steps):\n",
    "    raw_x,raw_y = raw_data\n",
    "    data_length = len(raw_x)\n",
    "    \n",
    "    #Partition data into batches and stack them vertically in a data matrix\n",
    "    batch_partition_length = data_length//batch_size\n",
    "    \n",
    "    data_x = np.zeros(shape=(batch_size,batch_partition_length),dtype=np.int32)\n",
    "    data_y = np.zeros(shape=(batch_size,batch_partition_length),dtype=np.int32)\n",
    "    \n",
    "    for i in range(batch_size):\n",
    "        data_x[i] = raw_x[batch_partition_length*i : batch_partition_length*(i+1)]\n",
    "        data_y[i] = raw_y[batch_partition_length*i : batch_partition_length*(i+1)]\n",
    "        \n",
    "    #Further divide batch partitions into num_steps for truncated backprop\n",
    "    epoch_size = batch_partition_length // num_steps\n",
    "    \n",
    "    for i in range(epoch_size):\n",
    "        x = data_x[:,i * num_steps:(i+1) * num_steps]\n",
    "        y = data_y[:,i * num_steps:(i+1) * num_steps]\n",
    "        yield(x,y)\n",
    "        \n",
    "def gen_epochs(num_epochs,batch_size,num_steps):\n",
    "    for i in range(num_epochs):\n",
    "        yield gen_batch(gen_data(),batch_size,num_steps)"
   ]
  },
  {
   "cell_type": "markdown",
   "metadata": {},
   "source": [
    "## Data\n",
    "\n",
    "Take a look at how data generating functions works"
   ]
  },
  {
   "cell_type": "code",
   "execution_count": 5,
   "metadata": {},
   "outputs": [
    {
     "data": {
      "text/plain": [
       "(array([0, 0, 0, 1, 1, 0, 1, 0, 0, 1]), array([1, 0, 1, 1, 0, 0, 1, 1, 0, 1]))"
      ]
     },
     "execution_count": 5,
     "metadata": {},
     "output_type": "execute_result"
    }
   ],
   "source": [
    "X,Y = gen_data(10)\n",
    "X,Y"
   ]
  },
  {
   "cell_type": "code",
   "execution_count": 6,
   "metadata": {},
   "outputs": [
    {
     "name": "stdout",
     "output_type": "stream",
     "text": [
      "New batch:\n",
      "[[0 0 0 1 1 0 1 0 0 1]]\n",
      "[[1 0 1 1 0 0 1 1 0 1]]\n"
     ]
    }
   ],
   "source": [
    "for x,y in gen_batch([X,Y],batch_size=1,num_steps=NUM_STEPS):\n",
    "    print('New batch:')\n",
    "    print(x)\n",
    "    print(y)"
   ]
  },
  {
   "cell_type": "markdown",
   "metadata": {},
   "source": [
    "## Model\n",
    "\n",
    "Formally, the model is <a href=\"https://r2rt.com/recurrent-neural-networks-in-tensorflow-i.html#model_architecture\">Click!</a> <- Original post\n",
    "\n",
    "Diagram of the model:\n",
    "\n",
    "<a href=\"https://r2rt.com/recurrent-neural-networks-in-tensorflow-i.html#model_architecture\"><img src=\"https://r2rt.com/static/images/BasicRNNLabeled.png\"></a>\n"
   ]
  },
  {
   "cell_type": "markdown",
   "metadata": {},
   "source": [
    "## Placeholders"
   ]
  },
  {
   "cell_type": "markdown",
   "metadata": {},
   "source": [
    "- **x placeholder** will hold our random binary array input\n",
    "<img src=\"https://github.com/alberduris/DeepLearning/blob/master/RecurrentNeuralNetworks/R2RT%20-%20RNN%20Tensorflow%20tutorials/src/x_placeholder.png?raw=true\">\n",
    "\n",
    "- **y placeholder** will hold our labels array target\n",
    "<img src=\"https://github.com/alberduris/DeepLearning/blob/master/RecurrentNeuralNetworks/R2RT%20-%20RNN%20Tensorflow%20tutorials/src/y_placeholder.png?raw=true\">\n",
    "\n",
    "- **init state placeholder** will hold the state for each batch\n",
    "<img src=\"https://github.com/alberduris/DeepLearning/blob/master/RecurrentNeuralNetworks/R2RT%20-%20RNN%20Tensorflow%20tutorials/src/init_state_placeholder.PNG?raw=true\">"
   ]
  },
  {
   "cell_type": "code",
   "execution_count": 7,
   "metadata": {
    "collapsed": true
   },
   "outputs": [],
   "source": [
    "x = tf.placeholder(shape=[BATCH_SIZE,NUM_STEPS],dtype=tf.int32,name='input_placeholder')\n",
    "y = tf.placeholder(shape=[BATCH_SIZE,NUM_STEPS],dtype=tf.int32,name='labels_placeholder')\n",
    "init_state = tf.zeros([BATCH_SIZE,STATE_SIZE],dtype=tf.float32)"
   ]
  },
  {
   "cell_type": "code",
   "execution_count": 8,
   "metadata": {},
   "outputs": [
    {
     "data": {
      "text/plain": [
       "(<tf.Tensor 'input_placeholder:0' shape=(3, 10) dtype=int32>,\n",
       " <tf.Tensor 'labels_placeholder:0' shape=(3, 10) dtype=int32>,\n",
       " <tf.Tensor 'zeros:0' shape=(3, 16) dtype=float32>)"
      ]
     },
     "execution_count": 8,
     "metadata": {},
     "output_type": "execute_result"
    }
   ],
   "source": [
    "x,y,init_state"
   ]
  },
  {
   "cell_type": "markdown",
   "metadata": {},
   "source": [
    "---\n",
    "\n",
    "## RNN Inputs\n",
    "\n",
    "**rnn_inputs:** OneHot representation of the data\n",
    "\n",
    "Instead of using a list of tensors (of length num_steps and shape  [batch_size, features]), we keep everything in:\n",
    "\n",
    "Single3-dimnesional tensor of shape  [batch_size, num_steps, features]"
   ]
  },
  {
   "cell_type": "code",
   "execution_count": 9,
   "metadata": {
    "collapsed": true
   },
   "outputs": [],
   "source": [
    "rnn_inputs = tf.one_hot(x,NUM_CLASSES)"
   ]
  },
  {
   "cell_type": "code",
   "execution_count": 10,
   "metadata": {},
   "outputs": [
    {
     "data": {
      "text/plain": [
       "<tf.Tensor 'one_hot:0' shape=(3, 10, 2) dtype=float32>"
      ]
     },
     "execution_count": 10,
     "metadata": {},
     "output_type": "execute_result"
    }
   ],
   "source": [
    "rnn_inputs"
   ]
  },
  {
   "cell_type": "markdown",
   "metadata": {},
   "source": [
    "---"
   ]
  },
  {
   "cell_type": "markdown",
   "metadata": {},
   "source": [
    "## Definition of rnn_cell\n",
    "\n",
    "This is very similar to the ``call`` method on Tensorflow's BasicRNNCell. \n",
    "See: https://github.com/tensorflow/tensorflow/blob/master/tensorflow/contrib/rnn/python/ops/rnn_cell.py#L1213\n",
    "\n",
    "According to their documentation:<br>\n",
    "Run the cell and add its inputs to its outputs.<br>\n",
    "\n",
    "It looks like:\n",
    "<a href=\"https://r2rt.com/written-memories-understanding-deriving-and-extending-the-lstm.html\"><img src=\"https://r2rt.com/static/images/NH_VanillaRNNcell.png\" width=\"400px\"></a>"
   ]
  },
  {
   "cell_type": "markdown",
   "metadata": {},
   "source": [
    "---\n",
    "\n",
    "Replace our function for building rnn cells"
   ]
  },
  {
   "cell_type": "raw",
   "metadata": {},
   "source": [
    "with tf.variable_scope('rnn_cell'):\n",
    "    W = tf.get_variable(name='W',shape=[NUM_CLASSES + STATE_SIZE, STATE_SIZE])\n",
    "    b = tf.get_variable(name='b',shape=[STATE_SIZE],initializer=tf.constant_initializer(0.0))\n",
    "    \n",
    "def rnn_cell(rnn_input,state):\n",
    "    with tf.variable_scope('rnn_cell',reuse=True):\n",
    "        W = tf.get_variable(name='W',shape=[NUM_CLASSES + STATE_SIZE, STATE_SIZE])\n",
    "        b = tf.get_variable(name='b',shape=[STATE_SIZE],initializer=tf.constant_initializer(0.0))\n",
    "        \n",
    "    #concat(rnn_input,state) => Prior state & Current Input on the image\n",
    "    #W, bias and tanh are pretty clear in the image\n",
    "    return tf.tanh(tf.matmul(tf.concat(values=[rnn_input,state],axis=1),W) + b)"
   ]
  },
  {
   "cell_type": "markdown",
   "metadata": {},
   "source": [
    "With TF API for RNN cells → **BasicRNNCell**"
   ]
  },
  {
   "cell_type": "code",
   "execution_count": 11,
   "metadata": {
    "collapsed": true
   },
   "outputs": [],
   "source": [
    "cell = tf.contrib.rnn.BasicRNNCell(STATE_SIZE)"
   ]
  },
  {
   "cell_type": "markdown",
   "metadata": {},
   "source": [
    "---"
   ]
  },
  {
   "cell_type": "markdown",
   "metadata": {},
   "source": [
    "## Adding rnn_cells to graph\n",
    "\n",
    "This is a simplified version of the \"static_rnn\" function from Tensorflow's api.\n",
    "See: https://github.com/tensorflow/tensorflow/blob/master/tensorflow/python/ops/rnn.py#L1092\n",
    "\n",
    "According to their documentation:<br>\n",
    "Creates a recurrent neural network specified by RNNCell `cell`.\n",
    "\n",
    "It looks like:\n",
    "\n",
    "<a href=\"https://r2rt.com/written-memories-understanding-deriving-and-extending-the-lstm.html\"><img src=\"https://r2rt.com/static/images/NH_ComposedRNNcells.png\"></a>"
   ]
  },
  {
   "cell_type": "markdown",
   "metadata": {},
   "source": [
    "---\n",
    "\n",
    "Replace our code for adding the cells to the graph and getting the ``final_state`` and ``rnn_outputs``"
   ]
  },
  {
   "cell_type": "raw",
   "metadata": {},
   "source": [
    "state = init_state #Initialize state (left dotted square on image)\n",
    "rnn_outputs = [] #Create a list as placeholder for the outputs (top dotted squares in image)\n",
    "\n",
    "for rnn_input in rnn_inputs:\n",
    "    state = rnn_cell(rnn_input=rnn_input,state=state) #Create a RNN cell and store the output state\n",
    "    rnn_outputs.append(state) #Append it to the list\n",
    "final_state = rnn_outputs[-1] #The final state is the last output (top right dotted square on the image)"
   ]
  },
  {
   "cell_type": "markdown",
   "metadata": {},
   "source": [
    "With the TF API → **dynamic_rnn**"
   ]
  },
  {
   "cell_type": "code",
   "execution_count": 12,
   "metadata": {},
   "outputs": [],
   "source": [
    "rnn_outputs, final_state = tf.nn.dynamic_rnn(cell=cell,inputs=rnn_inputs,initial_state=init_state)"
   ]
  },
  {
   "cell_type": "markdown",
   "metadata": {},
   "source": [
    "And thats all\n",
    "\n",
    "---"
   ]
  },
  {
   "cell_type": "markdown",
   "metadata": {},
   "source": [
    "## Predictions, loss, training step\n",
    "\n",
    "Predictions will be the result of **softmax** to the **logits**. **Logits** will be the result of matrix multiplication with **Wout** and **bout**.\n",
    "\n",
    "Because of the steps, instead of one, we will have several **losses**, one for each step. **Total loss** will be just the mean of every losses.\n",
    "\n",
    "As **optimizer** we'll be using the **Adagradoptimizer**, to do de backpropagation, feel free to experiment with that.\n",
    "\n",
    "---\n",
    "\n",
    "Because of the dynamic API we no longer need to do our ``for`` loops anymore. "
   ]
  },
  {
   "cell_type": "code",
   "execution_count": 13,
   "metadata": {},
   "outputs": [],
   "source": [
    "##Predictions##\n",
    "with tf.variable_scope('softmax'):\n",
    "    W = tf.get_variable('W',[STATE_SIZE,NUM_CLASSES])\n",
    "    b = tf.get_variable('b',[NUM_CLASSES],initializer=tf.constant_initializer(0.0))\n",
    "    \n",
    "#Reshape needed\n",
    "logits = tf.reshape(tf.matmul(tf.reshape(rnn_outputs,shape=[-1,STATE_SIZE]),W) + b,shape=[BATCH_SIZE,NUM_STEPS,NUM_CLASSES])\n",
    "predictions = tf.nn.softmax(logits)\n",
    "\n",
    "\n",
    "\n",
    "##Losses##\n",
    "losses = tf.nn.sparse_softmax_cross_entropy_with_logits(labels=y,logits=logits)\n",
    "total_loss = tf.reduce_mean(losses)\n",
    "\n",
    "##Optimizer##\n",
    "train_step = tf.train.AdagradOptimizer(LEARNING_RATE).minimize(total_loss)"
   ]
  },
  {
   "cell_type": "markdown",
   "metadata": {},
   "source": [
    "--- "
   ]
  },
  {
   "cell_type": "markdown",
   "metadata": {},
   "source": [
    "## Train"
   ]
  },
  {
   "cell_type": "code",
   "execution_count": 14,
   "metadata": {
    "collapsed": true
   },
   "outputs": [],
   "source": [
    "def train_network(num_epochs,state_size=4):\n",
    "    with tf.Session() as sess:\n",
    "        sess.run(tf.global_variables_initializer())\n",
    "        training_losses = []\n",
    "        \n",
    "        for idx,epoch in enumerate(gen_epochs(num_epochs,BATCH_SIZE,NUM_STEPS)):\n",
    "            training_loss = 0\n",
    "            training_state = np.random.normal(size=(BATCH_SIZE,STATE_SIZE)) #Random initiate state\n",
    "        \n",
    "            print('Epoch %d'%idx)\n",
    "            \n",
    "            for step,(X,Y) in enumerate(epoch):\n",
    "                \n",
    "                feed_dict = {x:X,y:Y,init_state:training_state}\n",
    "                tr_losses,training_loss_,training_state,_ = sess.run([losses,total_loss,final_state,train_step],feed_dict)\n",
    "                training_loss += training_loss_\n",
    "                \n",
    "                if(step % 100 == 0 and step > 0):\n",
    "                    print('Average loss at step %d for last 250 steps: %.3f'%(step,training_loss/100))\n",
    "                    training_losses.append(training_loss/100)\n",
    "                    training_loss = 0\n",
    "                \n",
    "    return training_losses"
   ]
  },
  {
   "cell_type": "code",
   "execution_count": 15,
   "metadata": {},
   "outputs": [
    {
     "name": "stdout",
     "output_type": "stream",
     "text": [
      "Epoch 0\n",
      "Average loss at step 100 for last 250 steps: 0.533\n",
      "Average loss at step 200 for last 250 steps: 0.508\n",
      "Average loss at step 300 for last 250 steps: 0.504\n",
      "Epoch 1\n",
      "Average loss at step 100 for last 250 steps: 0.501\n",
      "Average loss at step 200 for last 250 steps: 0.509\n",
      "Average loss at step 300 for last 250 steps: 0.493\n",
      "Epoch 2\n",
      "Average loss at step 100 for last 250 steps: 0.494\n",
      "Average loss at step 200 for last 250 steps: 0.487\n",
      "Average loss at step 300 for last 250 steps: 0.490\n",
      "Epoch 3\n",
      "Average loss at step 100 for last 250 steps: 0.490\n",
      "Average loss at step 200 for last 250 steps: 0.472\n",
      "Average loss at step 300 for last 250 steps: 0.497\n",
      "Epoch 4\n",
      "Average loss at step 100 for last 250 steps: 0.498\n",
      "Average loss at step 200 for last 250 steps: 0.471\n",
      "Average loss at step 300 for last 250 steps: 0.475\n",
      "Epoch 5\n",
      "Average loss at step 100 for last 250 steps: 0.479\n",
      "Average loss at step 200 for last 250 steps: 0.480\n",
      "Average loss at step 300 for last 250 steps: 0.479\n",
      "Epoch 6\n",
      "Average loss at step 100 for last 250 steps: 0.473\n",
      "Average loss at step 200 for last 250 steps: 0.473\n",
      "Average loss at step 300 for last 250 steps: 0.473\n",
      "Epoch 7\n",
      "Average loss at step 100 for last 250 steps: 0.489\n",
      "Average loss at step 200 for last 250 steps: 0.475\n",
      "Average loss at step 300 for last 250 steps: 0.486\n",
      "Epoch 8\n",
      "Average loss at step 100 for last 250 steps: 0.499\n",
      "Average loss at step 200 for last 250 steps: 0.465\n",
      "Average loss at step 300 for last 250 steps: 0.460\n",
      "Epoch 9\n",
      "Average loss at step 100 for last 250 steps: 0.480\n",
      "Average loss at step 200 for last 250 steps: 0.481\n",
      "Average loss at step 300 for last 250 steps: 0.462\n"
     ]
    }
   ],
   "source": [
    "training_losses = train_network(num_epochs=10)"
   ]
  },
  {
   "cell_type": "code",
   "execution_count": 16,
   "metadata": {},
   "outputs": [
    {
     "data": {
      "image/png": "[encoded data removed]",
      "text/plain": [
       "<matplotlib.figure.Figure at 0x2d775505780>"
      ]
     },
     "metadata": {},
     "output_type": "display_data"
    }
   ],
   "source": [
    "plt.title('Loss')\n",
    "plt.scatter(x=np.arange(0,len(training_losses)),y=training_losses)\n",
    "plt.xlabel('epochs')\n",
    "plt.ylabel('loss')\n",
    "plt.show();"
   ]
  }
 ],
 "metadata": {
  "kernelspec": {
   "display_name": "Python 3",
   "language": "python",
   "name": "python3"
  },
  "language_info": {
   "codemirror_mode": {
    "name": "ipython",
    "version": 3
   },
   "file_extension": ".py",
   "mimetype": "text/x-python",
   "name": "python",
   "nbconvert_exporter": "python",
   "pygments_lexer": "ipython3",
   "version": "3.5.3"
  }
 },
 "nbformat": 4,
 "nbformat_minor": 2
}
