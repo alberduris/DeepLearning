{
 "cells": [
  {
   "cell_type": "markdown",
   "metadata": {},
   "source": [
    "# Vanilla RNN - Tensorflow API - Dynamic - Predicting binary sequences\n",
    "\n",
    "In this notebook we will implement a \"cleaner\" (without explanations, examples, images...) of the last model, the one using the dynamic API."
   ]
  },
  {
   "cell_type": "code",
   "execution_count": 1,
   "metadata": {
    "collapsed": true
   },
   "outputs": [],
   "source": [
    "import numpy as np\n",
    "import tensorflow as tf\n",
    "%matplotlib inline\n",
    "import matplotlib.pyplot as plt"
   ]
  },
  {
   "cell_type": "markdown",
   "metadata": {},
   "source": [
    "## Hyperparameters"
   ]
  },
  {
   "cell_type": "code",
   "execution_count": 2,
   "metadata": {
    "collapsed": true
   },
   "outputs": [],
   "source": [
    "NUM_OBSERVATIONS = 10000\n",
    "\n",
    "NUM_STEPS = 10 #Number of truncated backprop steps\n",
    "BATCH_SIZE = 3\n",
    "NUM_CLASSES = 2 #Binary problem\n",
    "\n",
    "STATE_SIZE = 16\n",
    "\n",
    "LEARNING_RATE = 0.1\n",
    "\n",
    "DISPLAY_FREQ = NUM_OBSERVATIONS//NUM_STEPS//BATCH_SIZE//10"
   ]
  },
  {
   "cell_type": "code",
   "execution_count": 3,
   "metadata": {},
   "outputs": [
    {
     "name": "stdout",
     "output_type": "stream",
     "text": [
      "With current configuration 333 batches per epoch\n"
     ]
    }
   ],
   "source": [
    "print('With current configuration %d batches per epoch' % (NUM_OBSERVATIONS//NUM_STEPS//BATCH_SIZE))"
   ]
  },
  {
   "cell_type": "markdown",
   "metadata": {},
   "source": [
    "## Functions"
   ]
  },
  {
   "cell_type": "code",
   "execution_count": 4,
   "metadata": {
    "collapsed": true
   },
   "outputs": [],
   "source": [
    "def gen_data(size=NUM_OBSERVATIONS):\n",
    "    X = np.array(np.random.choice(2,size=(size,))) #Random binary array of size 'size'\n",
    "    Y = [] #Targets\n",
    "    \n",
    "    for i in range(size):\n",
    "        threshold = 0.5\n",
    "        if X[i-3] == 1: #First dependency at t-3\n",
    "            threshold += 0.5 \n",
    "        if X[i-8] == 1:\n",
    "            threshold -= 0.25\n",
    "        if np.random.rand() > threshold:\n",
    "            Y.append(0)\n",
    "        else:\n",
    "            Y.append(1)\n",
    "            \n",
    "    return X,np.array(Y)\n",
    "\n",
    "def gen_batch(raw_data,batch_size,num_steps):\n",
    "    raw_x,raw_y = raw_data\n",
    "    data_length = len(raw_x)\n",
    "    \n",
    "    #Partition data into batches and stack them vertically in a data matrix\n",
    "    batch_partition_length = data_length//batch_size\n",
    "    \n",
    "    data_x = np.zeros(shape=(batch_size,batch_partition_length),dtype=np.int32)\n",
    "    data_y = np.zeros(shape=(batch_size,batch_partition_length),dtype=np.int32)\n",
    "    \n",
    "    for i in range(batch_size):\n",
    "        data_x[i] = raw_x[batch_partition_length*i : batch_partition_length*(i+1)]\n",
    "        data_y[i] = raw_y[batch_partition_length*i : batch_partition_length*(i+1)]\n",
    "        \n",
    "    #Further divide batch partitions into num_steps for truncated backprop\n",
    "    epoch_size = batch_partition_length // num_steps\n",
    "    \n",
    "    for i in range(epoch_size):\n",
    "        x = data_x[:,i * num_steps:(i+1) * num_steps]\n",
    "        y = data_y[:,i * num_steps:(i+1) * num_steps]\n",
    "        yield(x,y)\n",
    "        \n",
    "def gen_epochs(num_epochs,batch_size,num_steps):\n",
    "    for i in range(num_epochs):\n",
    "        yield gen_batch(gen_data(),batch_size,num_steps)"
   ]
  },
  {
   "cell_type": "markdown",
   "metadata": {},
   "source": [
    "## Model"
   ]
  },
  {
   "cell_type": "code",
   "execution_count": 5,
   "metadata": {
    "collapsed": true
   },
   "outputs": [],
   "source": [
    "#Placeholders\n",
    "\n",
    "x = tf.placeholder(shape=[BATCH_SIZE,NUM_STEPS],dtype=tf.int32,name='input_placeholder')\n",
    "y = tf.placeholder(shape=[BATCH_SIZE,NUM_STEPS],dtype=tf.int32,name='labels_placeholder')\n",
    "init_state = tf.zeros([BATCH_SIZE,STATE_SIZE],dtype=tf.float32)\n",
    "\n",
    "#RNN inputs\n",
    "rnn_inputs = tf.one_hot(x,NUM_CLASSES)\n",
    "\n",
    "#RNN cell\n",
    "cell = tf.contrib.rnn.BasicRNNCell(STATE_SIZE)\n",
    "\n",
    "#Add RNN cells to graph\n",
    "rnn_outputs, final_state = tf.nn.dynamic_rnn(cell=cell,inputs=rnn_inputs,initial_state=init_state)\n",
    "\n",
    "#Predictions\n",
    "with tf.variable_scope('softmax'):\n",
    "    W = tf.get_variable('W',[STATE_SIZE,NUM_CLASSES])\n",
    "    b = tf.get_variable('b',[NUM_CLASSES],initializer=tf.constant_initializer(0.0))\n",
    "    \n",
    "logits = tf.reshape(tf.matmul(tf.reshape(rnn_outputs,shape=[-1,STATE_SIZE]),W) + b,shape=[BATCH_SIZE,NUM_STEPS,NUM_CLASSES])\n",
    "predictions = tf.nn.softmax(logits)\n",
    "\n",
    "#Loss\n",
    "losses = tf.nn.sparse_softmax_cross_entropy_with_logits(labels=y,logits=logits)\n",
    "total_loss = tf.reduce_mean(losses)\n",
    "\n",
    "#Optimizer\n",
    "train_step = tf.train.AdagradOptimizer(LEARNING_RATE).minimize(total_loss)"
   ]
  },
  {
   "cell_type": "markdown",
   "metadata": {},
   "source": [
    "## Train"
   ]
  },
  {
   "cell_type": "code",
   "execution_count": 6,
   "metadata": {
    "collapsed": true
   },
   "outputs": [],
   "source": [
    "def train_network(num_epochs):\n",
    "    with tf.Session() as sess:\n",
    "        sess.run(tf.global_variables_initializer())\n",
    "        training_losses = []\n",
    "        \n",
    "        for idx,epoch in enumerate(gen_epochs(num_epochs,BATCH_SIZE,NUM_STEPS)):\n",
    "            training_loss = 0\n",
    "            training_state = np.random.normal(size=(BATCH_SIZE,STATE_SIZE)) #Random initiate state\n",
    "        \n",
    "            print('Epoch %d'%idx)\n",
    "            \n",
    "            for step,(X,Y) in enumerate(epoch):\n",
    "                \n",
    "                feed_dict = {x:X,y:Y,init_state:training_state}\n",
    "                tr_losses,training_loss_,training_state,_ = sess.run([losses,total_loss,final_state,train_step],feed_dict)\n",
    "                training_loss += training_loss_\n",
    "                \n",
    "                if(step % 100 == 0 and step > 0):\n",
    "                    print('Average loss at step %d for last 250 steps: %.3f'%(step,training_loss/100))\n",
    "                    training_losses.append(training_loss/100)\n",
    "                    training_loss = 0\n",
    "                \n",
    "    return training_losses"
   ]
  },
  {
   "cell_type": "code",
   "execution_count": 7,
   "metadata": {},
   "outputs": [
    {
     "name": "stdout",
     "output_type": "stream",
     "text": [
      "Epoch 0\n",
      "Average loss at step 100 for last 250 steps: 0.562\n",
      "Average loss at step 200 for last 250 steps: 0.499\n",
      "Average loss at step 300 for last 250 steps: 0.481\n",
      "Epoch 1\n",
      "Average loss at step 100 for last 250 steps: 0.501\n",
      "Average loss at step 200 for last 250 steps: 0.502\n",
      "Average loss at step 300 for last 250 steps: 0.477\n",
      "Epoch 2\n",
      "Average loss at step 100 for last 250 steps: 0.483\n",
      "Average loss at step 200 for last 250 steps: 0.481\n",
      "Average loss at step 300 for last 250 steps: 0.482\n",
      "Epoch 3\n",
      "Average loss at step 100 for last 250 steps: 0.479\n",
      "Average loss at step 200 for last 250 steps: 0.477\n",
      "Average loss at step 300 for last 250 steps: 0.481\n",
      "Epoch 4\n",
      "Average loss at step 100 for last 250 steps: 0.502\n",
      "Average loss at step 200 for last 250 steps: 0.473\n",
      "Average loss at step 300 for last 250 steps: 0.483\n",
      "Epoch 5\n",
      "Average loss at step 100 for last 250 steps: 0.473\n",
      "Average loss at step 200 for last 250 steps: 0.480\n",
      "Average loss at step 300 for last 250 steps: 0.467\n",
      "Epoch 6\n",
      "Average loss at step 100 for last 250 steps: 0.480\n",
      "Average loss at step 200 for last 250 steps: 0.477\n",
      "Average loss at step 300 for last 250 steps: 0.478\n",
      "Epoch 7\n",
      "Average loss at step 100 for last 250 steps: 0.470\n",
      "Average loss at step 200 for last 250 steps: 0.487\n",
      "Average loss at step 300 for last 250 steps: 0.467\n",
      "Epoch 8\n",
      "Average loss at step 100 for last 250 steps: 0.481\n",
      "Average loss at step 200 for last 250 steps: 0.467\n",
      "Average loss at step 300 for last 250 steps: 0.464\n",
      "Epoch 9\n",
      "Average loss at step 100 for last 250 steps: 0.478\n",
      "Average loss at step 200 for last 250 steps: 0.466\n",
      "Average loss at step 300 for last 250 steps: 0.479\n"
     ]
    }
   ],
   "source": [
    "training_losses = train_network(num_epochs=10)"
   ]
  },
  {
   "cell_type": "code",
   "execution_count": 8,
   "metadata": {},
   "outputs": [
    {
     "data": {
      "image/png": "[encoded data removed]",
      "text/plain": [
       "<matplotlib.figure.Figure at 0x226ac30b550>"
      ]
     },
     "metadata": {},
     "output_type": "display_data"
    }
   ],
   "source": [
    "plt.title('Loss')\n",
    "plt.scatter(x=np.arange(0,len(training_losses)),y=training_losses)\n",
    "plt.xlabel('epochs')\n",
    "plt.ylabel('loss')\n",
    "plt.show();"
   ]
  }
 ],
 "metadata": {
  "kernelspec": {
   "display_name": "Python 3",
   "language": "python",
   "name": "python3"
  },
  "language_info": {
   "codemirror_mode": {
    "name": "ipython",
    "version": 3
   },
   "file_extension": ".py",
   "mimetype": "text/x-python",
   "name": "python",
   "nbconvert_exporter": "python",
   "pygments_lexer": "ipython3",
   "version": "3.5.3"
  }
 },
 "nbformat": 4,
 "nbformat_minor": 2
}
