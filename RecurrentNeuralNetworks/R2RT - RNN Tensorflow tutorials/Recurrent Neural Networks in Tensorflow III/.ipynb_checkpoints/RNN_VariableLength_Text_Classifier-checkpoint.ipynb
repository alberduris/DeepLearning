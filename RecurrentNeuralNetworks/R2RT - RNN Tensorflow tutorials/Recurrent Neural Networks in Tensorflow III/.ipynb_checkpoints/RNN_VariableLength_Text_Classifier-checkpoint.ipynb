{
 "cells": [
  {
   "cell_type": "markdown",
   "metadata": {},
   "source": [
    "# RNN Variable Length Text Classifier\n",
    "\n",
    "In this Notebook, we’ll use Tensorflow to construct an RNN that operates on input sequences of variable lengths. We’ll use this RNN to classify bloggers by age bracket and gender using sentence-long writing samples. One time step will represent a single word, with the complete input sequence representing a single sentence. The challenge is to build a model that can classify multiple sentences of different lengths at the same time.\n",
    "\n",
    "<a href=\"https://r2rt.com/recurrent-neural-networks-in-tensorflow-iii-variable-length-sequences.html\">[Ref]</a>"
   ]
  },
  {
   "cell_type": "code",
   "execution_count": 1,
   "metadata": {
    "collapsed": true
   },
   "outputs": [],
   "source": [
    "import pandas as pd\n",
    "import numpy as np\n",
    "import tensorflow as tf\n",
    "import os\n",
    "import math\n",
    "\n",
    "import blogs_data #available at https://github.com/spitis/blogs_data"
   ]
  },
  {
   "cell_type": "markdown",
   "metadata": {},
   "source": [
    "## Hyperparameters"
   ]
  },
  {
   "cell_type": "markdown",
   "metadata": {},
   "source": [
    "## Read data"
   ]
  },
  {
   "cell_type": "code",
   "execution_count": 2,
   "metadata": {},
   "outputs": [
    {
     "data": {
      "text/html": [
       "<div>\n",
       "<style>\n",
       "    .dataframe thead tr:only-child th {\n",
       "        text-align: right;\n",
       "    }\n",
       "\n",
       "    .dataframe thead th {\n",
       "        text-align: left;\n",
       "    }\n",
       "\n",
       "    .dataframe tbody tr th {\n",
       "        vertical-align: top;\n",
       "    }\n",
       "</style>\n",
       "<table border=\"1\" class=\"dataframe\">\n",
       "  <thead>\n",
       "    <tr style=\"text-align: right;\">\n",
       "      <th></th>\n",
       "      <th>post_id</th>\n",
       "      <th>gender</th>\n",
       "      <th>age_bracket</th>\n",
       "      <th>string</th>\n",
       "      <th>as_numbers</th>\n",
       "      <th>length</th>\n",
       "    </tr>\n",
       "  </thead>\n",
       "  <tbody>\n",
       "    <tr>\n",
       "      <th>0</th>\n",
       "      <td>16013</td>\n",
       "      <td>1</td>\n",
       "      <td>0</td>\n",
       "      <td>i have to babysit the bitter - beer - faced ba...</td>\n",
       "      <td>[3, 23, 5, 6900, 4, 2894, 33, 1103, 33, 3272, ...</td>\n",
       "      <td>13</td>\n",
       "    </tr>\n",
       "    <tr>\n",
       "      <th>1</th>\n",
       "      <td>55584</td>\n",
       "      <td>0</td>\n",
       "      <td>2</td>\n",
       "      <td>anyway , hopefully that will be enough &lt;UNK&gt; f...</td>\n",
       "      <td>[255, 1, 622, 9, 60, 30, 240, 0, 16, 4, 6894, ...</td>\n",
       "      <td>18</td>\n",
       "    </tr>\n",
       "    <tr>\n",
       "      <th>2</th>\n",
       "      <td>102139</td>\n",
       "      <td>1</td>\n",
       "      <td>2</td>\n",
       "      <td>i keep thinking about all those &lt;UNK&gt; &lt;UNK&gt; , ...</td>\n",
       "      <td>[3, 239, 288, 47, 37, 161, 0, 0, 1, 612, 2]</td>\n",
       "      <td>11</td>\n",
       "    </tr>\n",
       "  </tbody>\n",
       "</table>\n",
       "</div>"
      ],
      "text/plain": [
       "   post_id  gender  age_bracket  \\\n",
       "0    16013       1            0   \n",
       "1    55584       0            2   \n",
       "2   102139       1            2   \n",
       "\n",
       "                                              string  \\\n",
       "0  i have to babysit the bitter - beer - faced ba...   \n",
       "1  anyway , hopefully that will be enough <UNK> f...   \n",
       "2  i keep thinking about all those <UNK> <UNK> , ...   \n",
       "\n",
       "                                          as_numbers  length  \n",
       "0  [3, 23, 5, 6900, 4, 2894, 33, 1103, 33, 3272, ...      13  \n",
       "1  [255, 1, 622, 9, 60, 30, 240, 0, 16, 4, 6894, ...      18  \n",
       "2        [3, 239, 288, 47, 37, 161, 0, 0, 1, 612, 2]      11  "
      ]
     },
     "execution_count": 2,
     "metadata": {},
     "output_type": "execute_result"
    }
   ],
   "source": [
    "df = blogs_data.loadBlogs().sample(frac=1).reset_index(drop=True)\n",
    "df.head(3)"
   ]
  },
  {
   "cell_type": "code",
   "execution_count": 3,
   "metadata": {},
   "outputs": [
    {
     "data": {
      "text/plain": [
       "(76440, 15288)"
      ]
     },
     "execution_count": 3,
     "metadata": {},
     "output_type": "execute_result"
    }
   ],
   "source": [
    "vocab,reverse_vocab = blogs_data.loadVocab()\n",
    "train_len, test_len = math.floor(len(df)*0.05), math.floor(len(df)*0.01)\n",
    "train_len,test_len"
   ]
  },
  {
   "cell_type": "code",
   "execution_count": 4,
   "metadata": {
    "collapsed": true
   },
   "outputs": [],
   "source": [
    "train = df.iloc[:train_len-1]\n",
    "test = df.iloc[train_len:train_len + test_len]"
   ]
  },
  {
   "cell_type": "code",
   "execution_count": 5,
   "metadata": {},
   "outputs": [
    {
     "data": {
      "text/html": [
       "<div>\n",
       "<style>\n",
       "    .dataframe thead tr:only-child th {\n",
       "        text-align: right;\n",
       "    }\n",
       "\n",
       "    .dataframe thead th {\n",
       "        text-align: left;\n",
       "    }\n",
       "\n",
       "    .dataframe tbody tr th {\n",
       "        vertical-align: top;\n",
       "    }\n",
       "</style>\n",
       "<table border=\"1\" class=\"dataframe\">\n",
       "  <thead>\n",
       "    <tr style=\"text-align: right;\">\n",
       "      <th></th>\n",
       "      <th>post_id</th>\n",
       "      <th>gender</th>\n",
       "      <th>age_bracket</th>\n",
       "      <th>string</th>\n",
       "      <th>as_numbers</th>\n",
       "      <th>length</th>\n",
       "    </tr>\n",
       "  </thead>\n",
       "  <tbody>\n",
       "    <tr>\n",
       "      <th>0</th>\n",
       "      <td>16013</td>\n",
       "      <td>1</td>\n",
       "      <td>0</td>\n",
       "      <td>i have to babysit the bitter - beer - faced ba...</td>\n",
       "      <td>[3, 23, 5, 6900, 4, 2894, 33, 1103, 33, 3272, ...</td>\n",
       "      <td>13</td>\n",
       "    </tr>\n",
       "    <tr>\n",
       "      <th>1</th>\n",
       "      <td>55584</td>\n",
       "      <td>0</td>\n",
       "      <td>2</td>\n",
       "      <td>anyway , hopefully that will be enough &lt;UNK&gt; f...</td>\n",
       "      <td>[255, 1, 622, 9, 60, 30, 240, 0, 16, 4, 6894, ...</td>\n",
       "      <td>18</td>\n",
       "    </tr>\n",
       "  </tbody>\n",
       "</table>\n",
       "</div>"
      ],
      "text/plain": [
       "   post_id  gender  age_bracket  \\\n",
       "0    16013       1            0   \n",
       "1    55584       0            2   \n",
       "\n",
       "                                              string  \\\n",
       "0  i have to babysit the bitter - beer - faced ba...   \n",
       "1  anyway , hopefully that will be enough <UNK> f...   \n",
       "\n",
       "                                          as_numbers  length  \n",
       "0  [3, 23, 5, 6900, 4, 2894, 33, 1103, 33, 3272, ...      13  \n",
       "1  [255, 1, 622, 9, 60, 30, 240, 0, 16, 4, 6894, ...      18  "
      ]
     },
     "execution_count": 5,
     "metadata": {},
     "output_type": "execute_result"
    }
   ],
   "source": [
    "train.head(2)"
   ]
  },
  {
   "cell_type": "code",
   "execution_count": 6,
   "metadata": {},
   "outputs": [
    {
     "data": {
      "text/html": [
       "<div>\n",
       "<style>\n",
       "    .dataframe thead tr:only-child th {\n",
       "        text-align: right;\n",
       "    }\n",
       "\n",
       "    .dataframe thead th {\n",
       "        text-align: left;\n",
       "    }\n",
       "\n",
       "    .dataframe tbody tr th {\n",
       "        vertical-align: top;\n",
       "    }\n",
       "</style>\n",
       "<table border=\"1\" class=\"dataframe\">\n",
       "  <thead>\n",
       "    <tr style=\"text-align: right;\">\n",
       "      <th></th>\n",
       "      <th>post_id</th>\n",
       "      <th>gender</th>\n",
       "      <th>age_bracket</th>\n",
       "      <th>string</th>\n",
       "      <th>as_numbers</th>\n",
       "      <th>length</th>\n",
       "    </tr>\n",
       "  </thead>\n",
       "  <tbody>\n",
       "    <tr>\n",
       "      <th>76440</th>\n",
       "      <td>169221</td>\n",
       "      <td>0</td>\n",
       "      <td>0</td>\n",
       "      <td>i figure this class will either be really easy...</td>\n",
       "      <td>[3, 636, 29, 320, 60, 395, 30, 69, 614, 6, 220...</td>\n",
       "      <td>18</td>\n",
       "    </tr>\n",
       "    <tr>\n",
       "      <th>76441</th>\n",
       "      <td>93206</td>\n",
       "      <td>1</td>\n",
       "      <td>1</td>\n",
       "      <td>luckily for him , &lt;UNK&gt; 's wife &lt;UNK&gt; heard wh...</td>\n",
       "      <td>[1942, 16, 84, 1, 0, 22, 802, 0, 433, 51, 58, ...</td>\n",
       "      <td>21</td>\n",
       "    </tr>\n",
       "  </tbody>\n",
       "</table>\n",
       "</div>"
      ],
      "text/plain": [
       "       post_id  gender  age_bracket  \\\n",
       "76440   169221       0            0   \n",
       "76441    93206       1            1   \n",
       "\n",
       "                                                  string  \\\n",
       "76440  i figure this class will either be really easy...   \n",
       "76441  luckily for him , <UNK> 's wife <UNK> heard wh...   \n",
       "\n",
       "                                              as_numbers  length  \n",
       "76440  [3, 636, 29, 320, 60, 395, 30, 69, 614, 6, 220...      18  \n",
       "76441  [1942, 16, 84, 1, 0, 22, 802, 0, 433, 51, 58, ...      21  "
      ]
     },
     "execution_count": 6,
     "metadata": {},
     "output_type": "execute_result"
    }
   ],
   "source": [
    "test.head(2)"
   ]
  },
  {
   "cell_type": "code",
   "execution_count": 7,
   "metadata": {
    "collapsed": true
   },
   "outputs": [],
   "source": [
    "df = None"
   ]
  },
  {
   "cell_type": "markdown",
   "metadata": {},
   "source": [
    "## Manage data\n",
    "\n",
    "### Data iterator"
   ]
  },
  {
   "cell_type": "code",
   "execution_count": 8,
   "metadata": {
    "collapsed": true
   },
   "outputs": [],
   "source": [
    "class SimpleDataIterator():\n",
    "    def __init__(self,df):\n",
    "        self.df = df\n",
    "        self.size = len(self.df)\n",
    "        self.epochs = 0\n",
    "        self.shuffle()\n",
    "        \n",
    "    def shuffle(self):\n",
    "        self.df = self.df.sample(frac=1).reset_index(drop=True)\n",
    "        self.cursor = 0\n",
    "        \n",
    "    def next_batch(self,n):\n",
    "        if(self.cursor+n-1 > self.size):\n",
    "            self.epochs += 1\n",
    "            self.shuffle()\n",
    "        res = self.df.iloc[self.cursor:self.cursor+n]\n",
    "        self.cursor += n\n",
    "        return res['as_numbers'],res['gender']*3 + res['age_bracket'],res['length']"
   ]
  },
  {
   "cell_type": "code",
   "execution_count": 9,
   "metadata": {},
   "outputs": [
    {
     "name": "stdout",
     "output_type": "stream",
     "text": [
      "Input sequences\n",
      " 0    [4, 0, 2989, 88, 130, 2241, 11, 0, 6, 5142, 27...\n",
      "1    [0, 1516, 63, 45, 1288, 0, 4160, 4160, 251, 57...\n",
      "2    [16, 249, 1, 3, 80, 28, 59, 1527, 21, 5178, 22...\n",
      "Name: as_numbers, dtype: object\n",
      "\n",
      "Target values\n",
      " 0    4\n",
      "1    0\n",
      "2    3\n",
      "dtype: int64\n",
      "\n",
      "Sequence lengths\n",
      " 0    16\n",
      "1    26\n",
      "2    13\n",
      "Name: length, dtype: int64\n"
     ]
    }
   ],
   "source": [
    "data = SimpleDataIterator(train)\n",
    "d = data.next_batch(3)\n",
    "print('Input sequences\\n', d[0], end='\\n\\n')\n",
    "print('Target values\\n', d[1], end='\\n\\n')\n",
    "print('Sequence lengths\\n', d[2])"
   ]
  },
  {
   "cell_type": "markdown",
   "metadata": {},
   "source": [
    "### Data padding"
   ]
  },
  {
   "cell_type": "code",
   "execution_count": 10,
   "metadata": {
    "collapsed": true
   },
   "outputs": [],
   "source": [
    "class PaddedDataIterator(SimpleDataIterator):\n",
    "    def next_batch(self,n):\n",
    "        if self.cursor+n > self.size:\n",
    "            self.epochs += 1\n",
    "            self.shuffle()\n",
    "        res = self.df.iloc[self.cursor:self.cursor+n]\n",
    "        self.cursor += n\n",
    "        \n",
    "        #Pad sequences with 0s so they are all the same length\n",
    "        maxlen = max(res['length'])\n",
    "        x = np.zeros([n,maxlen],dtype=np.int32)\n",
    "        for i,x_i in enumerate(x):\n",
    "            x_i[:res['length'].values[i]] = res['as_numbers'].values[i]\n",
    "        \n",
    "        return x,res['gender']*3 + res['age_bracket'], res['length']"
   ]
  },
  {
   "cell_type": "code",
   "execution_count": 11,
   "metadata": {},
   "outputs": [
    {
     "name": "stdout",
     "output_type": "stream",
     "text": [
      "Input sequences\n",
      " [[ 304   52   55   22  112  126   96    0    0 7318    2    0    0    0\n",
      "     0    0    0    0    0    0    0    0    0    0    0    0    0    0]\n",
      " [  51    3   53 6581   14   48    3   73   90    5   71    5   76 3336\n",
      "     8 3719   41   12 1259  192   11 3294 4516   21  106 1109  150    2]\n",
      " [ 230    4  915  196    1    4  244  954   14   47  874    8    4 2261\n",
      "    24  452   10    2    0    0    0    0    0    0    0    0    0    0]]\n",
      "\n"
     ]
    }
   ],
   "source": [
    "data = PaddedDataIterator(train)\n",
    "d = data.next_batch(3)\n",
    "print('Input sequences\\n',d[0],end='\\n\\n')"
   ]
  },
  {
   "cell_type": "markdown",
   "metadata": {},
   "source": [
    "## Model"
   ]
  },
  {
   "cell_type": "code",
   "execution_count": 12,
   "metadata": {
    "collapsed": true
   },
   "outputs": [],
   "source": [
    "def reset_graph():\n",
    "    if 'sess' in globals() and sess:\n",
    "        sess.close()\n",
    "    tf.reset_default_graph()\n",
    "    \n",
    "def build_graph(vocab_size = len(vocab), state_size = 64, batch_size = 256, num_classes = 6):\n",
    "    \n",
    "    reset_graph()\n",
    "    \n",
    "    #Placeholders\n",
    "    x = tf.placeholder(tf.int32,[batch_size,None]) #[batch_size, num_steps]\n",
    "    seqlen = tf.placeholder(tf.int32,[batch_size])\n",
    "    y = tf.placeholder(tf.int32,[batch_size])\n",
    "    keep_prob = tf.placeholder(1.0,name='keep_prob')\n",
    "    \n",
    "    #Embedding layer\n",
    "    embeddings = tf.get_variable('embedding_matrix',[vocab_size,state_size])\n",
    "    rnn_inputs = tf.nn.embedding_lookup(embeddings,x)\n",
    "    \n",
    "    #RNN\n",
    "    cell = tf.nn.rnn_cell.GRUCell(state_size)\n",
    "    init_state = tf.get_variable('init_state',[1,state_size],initializer=tf.constant_initializer(0.0))\n",
    "    init_state = tf.tile(init_state,[batch_size,1])\n",
    "    rnn_outputs, final_state = tf.nn.dynamic_rnn(cell,rnn_inputs,sequence_length=seqlen,initial_state=init_state)\n",
    "    rnn_outputs = tf.nn.dropout(rnn_outputs,keep_prob) #Dropout\n",
    "    \n",
    "    #Last revelant output\n",
    "    last_rnn_output = tf.gather_nd(rnn_outputs,tf.stack([tf.range(batch_size),seqlen-1],axis=1))\n",
    "    \n",
    "    #Softmax layer - Prediction\n",
    "    with tf.variable_scope('softmax'):\n",
    "        W = tf.get_variable('W',[state_size,num_classes])\n",
    "        b = tf.get_variable('b',[num_classes],initializer=tf.constant_initializer(0.0))\n",
    "    logits = tf.matmul(last_rnn_output,W) + b\n",
    "    preds = tf.nn.softmax(logits)\n",
    "    correct = tf.equal(tf.cast(tf.argmax(preds,1),tf.int32),y)\n",
    "    accuracy = tf.reduce_mean(tf.cast(correct,tf.float32))\n",
    "    \n",
    "    loss = tf.reduce_mean(tf.nn.sparse_softmax_cross_entropy_with_logits(logits=logits,labels=y))\n",
    "    train_step = tf.train.AdamOptimizer(1e-4).minimize(loss)\n",
    "    \n",
    "    ret_dict = {'x':x,'seqlen':seqlen,'y':y,'dropout':keep_prob,'loss':loss,'ts':train_step,'preds':preds,'accuracy':accuracy}\n",
    "    \n",
    "    return ret_dict"
   ]
  },
  {
   "cell_type": "markdown",
   "metadata": {},
   "source": [
    "## Train function"
   ]
  },
  {
   "cell_type": "code",
   "execution_count": 13,
   "metadata": {
    "collapsed": true
   },
   "outputs": [],
   "source": [
    "def train_graph(graph,batch_size = 256, num_epochs = 10, iterator=PaddedDataIterator):\n",
    "    with tf.Session() as sess:\n",
    "        tf.global_variables_initializer().run()\n",
    "        tr = iterator(train)\n",
    "        te = iterator(test)\n",
    "        \n",
    "        step,accuracy = 0,0\n",
    "        tr_losses,te_losses = [],[]\n",
    "        current_epoch = 0\n",
    "        \n",
    "        while current_epoch < num_epochs:\n",
    "            step += 1\n",
    "            batch = tr.next_batch(batch_size)\n",
    "            feed = {g['x']:batch[0],g['y']:batch[1],g['seqlen']:batch[2],g['dropout']:0.6}\n",
    "            \n",
    "            accuracy_,_ = sess.run([g['accuracy'],g['ts']],feed_dict = feed)\n",
    "            accuracy += accuracy_\n",
    "            \n",
    "            if(tr.epochs > current_epoch):\n",
    "                current_epoch += 1\n",
    "                tr_losses.append(accuracy/step)\n",
    "                step,accuracy = 0,0\n",
    "                \n",
    "                #eval test set\n",
    "                te_epoch = te.epochs\n",
    "                while (te.epochs == te_epoch):\n",
    "                    step =+ 1\n",
    "                    batch = te.next_batch(batch_size)\n",
    "                    feed = {g['x']:batch[0],g['y']:batch[1],g['seqlen']:batch[2],g['dropout']:1.0}\n",
    "                    accuracy_ = sess.run([g['accuracy']],feed_dict = feed)[0]\n",
    "                    accuracy += accuracy_\n",
    "                    \n",
    "                te_losses.append(accuracy/step)\n",
    "                step,accuracy = 0,0\n",
    "                print('Accuracy after epoch',current_epoch,\" - tr:\", tr_losses[-1],\" -te:\", te_losses[-1])\n",
    "                \n",
    "    return tr_losses,te_losses"
   ]
  },
  {
   "cell_type": "markdown",
   "metadata": {},
   "source": [
    "## Train & Test"
   ]
  },
  {
   "cell_type": "code",
   "execution_count": 14,
   "metadata": {
    "collapsed": true
   },
   "outputs": [],
   "source": [
    "g = build_graph()"
   ]
  },
  {
   "cell_type": "code",
   "execution_count": 15,
   "metadata": {},
   "outputs": [
    {
     "name": "stdout",
     "output_type": "stream",
     "text": [
      "Accuracy after epoch 1  - tr: 0.219625313545  -te: 15.38671875\n",
      "Accuracy after epoch 2  - tr: 0.250235947987  -te: 17.65625\n",
      "Accuracy after epoch 3  - tr: 0.296953649329  -te: 18.21875\n",
      "Accuracy after epoch 4  - tr: 0.313102978188  -te: 18.5859375\n",
      "Accuracy after epoch 5  - tr: 0.320928586409  -te: 18.7734375\n",
      "Accuracy after epoch 6  - tr: 0.330156774329  -te: 18.796875\n",
      "Accuracy after epoch 7  - tr: 0.336868183725  -te: 18.56640625\n",
      "Accuracy after epoch 8  - tr: 0.344628250839  -te: 18.40625\n",
      "Accuracy after epoch 9  - tr: 0.353450083893  -te: 18.45703125\n",
      "Accuracy after epoch 10  - tr: 0.359807571309  -te: 18.39453125\n"
     ]
    },
    {
     "data": {
      "text/plain": [
       "([0.2196253135451505,\n",
       "  0.25023594798657717,\n",
       "  0.29695364932885904,\n",
       "  0.31310297818791949,\n",
       "  0.32092858640939598,\n",
       "  0.33015677432885904,\n",
       "  0.33686818372483224,\n",
       "  0.34462825083892618,\n",
       "  0.35345008389261745,\n",
       "  0.35980757130872482],\n",
       " [15.38671875,\n",
       "  17.65625,\n",
       "  18.21875,\n",
       "  18.5859375,\n",
       "  18.7734375,\n",
       "  18.796875,\n",
       "  18.56640625,\n",
       "  18.40625,\n",
       "  18.45703125,\n",
       "  18.39453125])"
      ]
     },
     "execution_count": 15,
     "metadata": {},
     "output_type": "execute_result"
    }
   ],
   "source": [
    "train_graph(g)"
   ]
  }
 ],
 "metadata": {
  "kernelspec": {
   "display_name": "Python 3",
   "language": "python",
   "name": "python3"
  },
  "language_info": {
   "codemirror_mode": {
    "name": "ipython",
    "version": 3
   },
   "file_extension": ".py",
   "mimetype": "text/x-python",
   "name": "python",
   "nbconvert_exporter": "python",
   "pygments_lexer": "ipython3",
   "version": "3.5.3"
  }
 },
 "nbformat": 4,
 "nbformat_minor": 2
}
