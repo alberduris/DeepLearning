{
 "cells": [
  {
   "cell_type": "markdown",
   "metadata": {},
   "source": [
    "# RNN Variable Length Text Classifier - Sequence 2 Sequence\n",
    "\n",
    "In this Notebook, we'll extend our sequence classification model to do sequence-to-sequence learning. We’ll use the same dataset, but instead of having our model guess the author’s age bracket and gender at the end of the sequence (i.e., only once), we’ll have it guess at every timestep.\n",
    "\n",
    "<a href=\"https://r2rt.com/recurrent-neural-networks-in-tensorflow-iii-variable-length-sequences.html#a-basic-model-for-sequence-to-sequence-learning\">[Ref]</a>"
   ]
  },
  {
   "cell_type": "code",
   "execution_count": 1,
   "metadata": {
    "collapsed": true
   },
   "outputs": [],
   "source": [
    "import pandas as pd\n",
    "import numpy as np\n",
    "import tensorflow as tf\n",
    "import os\n",
    "import math\n",
    "\n",
    "import blogs_data #available at https://github.com/spitis/blogs_data"
   ]
  },
  {
   "cell_type": "markdown",
   "metadata": {},
   "source": [
    "## Hyperparameters"
   ]
  },
  {
   "cell_type": "code",
   "execution_count": 2,
   "metadata": {
    "collapsed": true
   },
   "outputs": [],
   "source": [
    "DATA_PCT_LOADED = 0.06\n",
    "\n",
    "MAX_SEQ_LEN = 30\n",
    "\n",
    "STATE_SIZE = 64\n",
    "\n",
    "BATCH_SIZE = 256\n",
    "\n",
    "NUM_EPOCHS = 10"
   ]
  },
  {
   "cell_type": "markdown",
   "metadata": {},
   "source": [
    "## Read data"
   ]
  },
  {
   "cell_type": "code",
   "execution_count": 3,
   "metadata": {},
   "outputs": [
    {
     "data": {
      "text/html": [
       "<div>\n",
       "<style>\n",
       "    .dataframe thead tr:only-child th {\n",
       "        text-align: right;\n",
       "    }\n",
       "\n",
       "    .dataframe thead th {\n",
       "        text-align: left;\n",
       "    }\n",
       "\n",
       "    .dataframe tbody tr th {\n",
       "        vertical-align: top;\n",
       "    }\n",
       "</style>\n",
       "<table border=\"1\" class=\"dataframe\">\n",
       "  <thead>\n",
       "    <tr style=\"text-align: right;\">\n",
       "      <th></th>\n",
       "      <th>post_id</th>\n",
       "      <th>gender</th>\n",
       "      <th>age_bracket</th>\n",
       "      <th>string</th>\n",
       "      <th>as_numbers</th>\n",
       "      <th>length</th>\n",
       "    </tr>\n",
       "  </thead>\n",
       "  <tbody>\n",
       "    <tr>\n",
       "      <th>0</th>\n",
       "      <td>135203</td>\n",
       "      <td>0</td>\n",
       "      <td>0</td>\n",
       "      <td>failed to capture the &lt;UNK&gt; killer who tried t...</td>\n",
       "      <td>[1572, 5, 4450, 4, 0, 3202, 74, 434, 5, 2933, ...</td>\n",
       "      <td>22</td>\n",
       "    </tr>\n",
       "    <tr>\n",
       "      <th>1</th>\n",
       "      <td>157615</td>\n",
       "      <td>1</td>\n",
       "      <td>0</td>\n",
       "      <td>i am obsessed with eerie &lt;UNK&gt; and &lt;UNK&gt; . and...</td>\n",
       "      <td>[3, 73, 3296, 26, 9980, 0, 6, 0, 2, 6, 341, 74...</td>\n",
       "      <td>20</td>\n",
       "    </tr>\n",
       "    <tr>\n",
       "      <th>2</th>\n",
       "      <td>42895</td>\n",
       "      <td>1</td>\n",
       "      <td>2</td>\n",
       "      <td>we did some shopping after that at the mall , ...</td>\n",
       "      <td>[32, 80, 67, 932, 109, 9, 35, 4, 1224, 1, 6, 6...</td>\n",
       "      <td>15</td>\n",
       "    </tr>\n",
       "  </tbody>\n",
       "</table>\n",
       "</div>"
      ],
      "text/plain": [
       "   post_id  gender  age_bracket  \\\n",
       "0   135203       0            0   \n",
       "1   157615       1            0   \n",
       "2    42895       1            2   \n",
       "\n",
       "                                              string  \\\n",
       "0  failed to capture the <UNK> killer who tried t...   \n",
       "1  i am obsessed with eerie <UNK> and <UNK> . and...   \n",
       "2  we did some shopping after that at the mall , ...   \n",
       "\n",
       "                                          as_numbers  length  \n",
       "0  [1572, 5, 4450, 4, 0, 3202, 74, 434, 5, 2933, ...      22  \n",
       "1  [3, 73, 3296, 26, 9980, 0, 6, 0, 2, 6, 341, 74...      20  \n",
       "2  [32, 80, 67, 932, 109, 9, 35, 4, 1224, 1, 6, 6...      15  "
      ]
     },
     "execution_count": 3,
     "metadata": {},
     "output_type": "execute_result"
    }
   ],
   "source": [
    "df = blogs_data.loadBlogs().sample(frac=DATA_PCT_LOADED).reset_index(drop=True)\n",
    "df.head(3)"
   ]
  },
  {
   "cell_type": "code",
   "execution_count": 4,
   "metadata": {},
   "outputs": [
    {
     "data": {
      "text/plain": [
       "(73382, 18345)"
      ]
     },
     "execution_count": 4,
     "metadata": {},
     "output_type": "execute_result"
    }
   ],
   "source": [
    "vocab,reverse_vocab = blogs_data.loadVocab()\n",
    "train_len, test_len = math.floor(len(df)*0.8), math.floor(len(df)*0.2)\n",
    "train_len,test_len"
   ]
  },
  {
   "cell_type": "code",
   "execution_count": 5,
   "metadata": {
    "collapsed": true
   },
   "outputs": [],
   "source": [
    "train = df.iloc[:train_len-1]\n",
    "test = df.iloc[train_len:train_len + test_len]"
   ]
  },
  {
   "cell_type": "code",
   "execution_count": 6,
   "metadata": {},
   "outputs": [
    {
     "data": {
      "text/html": [
       "<div>\n",
       "<style>\n",
       "    .dataframe thead tr:only-child th {\n",
       "        text-align: right;\n",
       "    }\n",
       "\n",
       "    .dataframe thead th {\n",
       "        text-align: left;\n",
       "    }\n",
       "\n",
       "    .dataframe tbody tr th {\n",
       "        vertical-align: top;\n",
       "    }\n",
       "</style>\n",
       "<table border=\"1\" class=\"dataframe\">\n",
       "  <thead>\n",
       "    <tr style=\"text-align: right;\">\n",
       "      <th></th>\n",
       "      <th>post_id</th>\n",
       "      <th>gender</th>\n",
       "      <th>age_bracket</th>\n",
       "      <th>string</th>\n",
       "      <th>as_numbers</th>\n",
       "      <th>length</th>\n",
       "    </tr>\n",
       "  </thead>\n",
       "  <tbody>\n",
       "    <tr>\n",
       "      <th>0</th>\n",
       "      <td>135203</td>\n",
       "      <td>0</td>\n",
       "      <td>0</td>\n",
       "      <td>failed to capture the &lt;UNK&gt; killer who tried t...</td>\n",
       "      <td>[1572, 5, 4450, 4, 0, 3202, 74, 434, 5, 2933, ...</td>\n",
       "      <td>22</td>\n",
       "    </tr>\n",
       "    <tr>\n",
       "      <th>1</th>\n",
       "      <td>157615</td>\n",
       "      <td>1</td>\n",
       "      <td>0</td>\n",
       "      <td>i am obsessed with eerie &lt;UNK&gt; and &lt;UNK&gt; . and...</td>\n",
       "      <td>[3, 73, 3296, 26, 9980, 0, 6, 0, 2, 6, 341, 74...</td>\n",
       "      <td>20</td>\n",
       "    </tr>\n",
       "  </tbody>\n",
       "</table>\n",
       "</div>"
      ],
      "text/plain": [
       "   post_id  gender  age_bracket  \\\n",
       "0   135203       0            0   \n",
       "1   157615       1            0   \n",
       "\n",
       "                                              string  \\\n",
       "0  failed to capture the <UNK> killer who tried t...   \n",
       "1  i am obsessed with eerie <UNK> and <UNK> . and...   \n",
       "\n",
       "                                          as_numbers  length  \n",
       "0  [1572, 5, 4450, 4, 0, 3202, 74, 434, 5, 2933, ...      22  \n",
       "1  [3, 73, 3296, 26, 9980, 0, 6, 0, 2, 6, 341, 74...      20  "
      ]
     },
     "execution_count": 6,
     "metadata": {},
     "output_type": "execute_result"
    }
   ],
   "source": [
    "train.head(2)"
   ]
  },
  {
   "cell_type": "code",
   "execution_count": 7,
   "metadata": {},
   "outputs": [
    {
     "data": {
      "text/html": [
       "<div>\n",
       "<style>\n",
       "    .dataframe thead tr:only-child th {\n",
       "        text-align: right;\n",
       "    }\n",
       "\n",
       "    .dataframe thead th {\n",
       "        text-align: left;\n",
       "    }\n",
       "\n",
       "    .dataframe tbody tr th {\n",
       "        vertical-align: top;\n",
       "    }\n",
       "</style>\n",
       "<table border=\"1\" class=\"dataframe\">\n",
       "  <thead>\n",
       "    <tr style=\"text-align: right;\">\n",
       "      <th></th>\n",
       "      <th>post_id</th>\n",
       "      <th>gender</th>\n",
       "      <th>age_bracket</th>\n",
       "      <th>string</th>\n",
       "      <th>as_numbers</th>\n",
       "      <th>length</th>\n",
       "    </tr>\n",
       "  </thead>\n",
       "  <tbody>\n",
       "    <tr>\n",
       "      <th>73382</th>\n",
       "      <td>93043</td>\n",
       "      <td>1</td>\n",
       "      <td>1</td>\n",
       "      <td>then &lt;UNK&gt; asks me to be is date to a dinner p...</td>\n",
       "      <td>[65, 0, 1963, 19, 5, 30, 14, 742, 5, 7, 528, 4...</td>\n",
       "      <td>14</td>\n",
       "    </tr>\n",
       "    <tr>\n",
       "      <th>73383</th>\n",
       "      <td>89410</td>\n",
       "      <td>0</td>\n",
       "      <td>1</td>\n",
       "      <td>i &lt;UNK&gt; with &lt;UNK&gt; to no avail .</td>\n",
       "      <td>[3, 0, 26, 0, 5, 81, 8141, 2]</td>\n",
       "      <td>8</td>\n",
       "    </tr>\n",
       "  </tbody>\n",
       "</table>\n",
       "</div>"
      ],
      "text/plain": [
       "       post_id  gender  age_bracket  \\\n",
       "73382    93043       1            1   \n",
       "73383    89410       0            1   \n",
       "\n",
       "                                                  string  \\\n",
       "73382  then <UNK> asks me to be is date to a dinner p...   \n",
       "73383                   i <UNK> with <UNK> to no avail .   \n",
       "\n",
       "                                              as_numbers  length  \n",
       "73382  [65, 0, 1963, 19, 5, 30, 14, 742, 5, 7, 528, 4...      14  \n",
       "73383                      [3, 0, 26, 0, 5, 81, 8141, 2]       8  "
      ]
     },
     "execution_count": 7,
     "metadata": {},
     "output_type": "execute_result"
    }
   ],
   "source": [
    "test.head(2)"
   ]
  },
  {
   "cell_type": "code",
   "execution_count": 8,
   "metadata": {
    "collapsed": true
   },
   "outputs": [],
   "source": [
    "df = None"
   ]
  },
  {
   "cell_type": "markdown",
   "metadata": {},
   "source": [
    "## Manage data\n",
    "\n",
    "### Data iterator"
   ]
  },
  {
   "cell_type": "code",
   "execution_count": 9,
   "metadata": {
    "collapsed": true
   },
   "outputs": [],
   "source": [
    "class SimpleDataIterator():\n",
    "    def __init__(self,df):\n",
    "        self.df = df\n",
    "        self.size = len(self.df)\n",
    "        self.epochs = 0\n",
    "        self.shuffle()\n",
    "        \n",
    "    def shuffle(self):\n",
    "        self.df = self.df.sample(frac=1).reset_index(drop=True)\n",
    "        self.cursor = 0\n",
    "        \n",
    "    def next_batch(self,n):\n",
    "        if(self.cursor+n-1 > self.size):\n",
    "            self.epochs += 1\n",
    "            self.shuffle()\n",
    "        res = self.df.iloc[self.cursor:self.cursor+n]\n",
    "        self.cursor += n\n",
    "        return res['as_numbers'],res['gender']*3 + res['age_bracket'],res['length']"
   ]
  },
  {
   "cell_type": "code",
   "execution_count": 10,
   "metadata": {},
   "outputs": [
    {
     "name": "stdout",
     "output_type": "stream",
     "text": [
      "Input sequences\n",
      " 0    [4, 1003, 140, 14, 5, 59, 0, 6, 824, 5, 4, 533...\n",
      "1    [1, 3, 75, 3, 214, 30, 5859, 57, 4, 257, 148, ...\n",
      "2    [0, 7291, 1, 143, 54, 3099, 186, 5, 6985, 821,...\n",
      "Name: as_numbers, dtype: object\n",
      "\n",
      "Target values\n",
      " 0    1\n",
      "1    1\n",
      "2    3\n",
      "dtype: int64\n",
      "\n",
      "Sequence lengths\n",
      " 0    14\n",
      "1    24\n",
      "2    19\n",
      "Name: length, dtype: int64\n"
     ]
    }
   ],
   "source": [
    "data = SimpleDataIterator(train)\n",
    "d = data.next_batch(3)\n",
    "print('Input sequences\\n', d[0], end='\\n\\n')\n",
    "print('Target values\\n', d[1], end='\\n\\n')\n",
    "print('Sequence lengths\\n', d[2])"
   ]
  },
  {
   "cell_type": "markdown",
   "metadata": {},
   "source": [
    "### Data padding"
   ]
  },
  {
   "cell_type": "code",
   "execution_count": 11,
   "metadata": {
    "collapsed": true
   },
   "outputs": [],
   "source": [
    "class BucketedDataIterator(SimpleDataIterator):\n",
    "    \n",
    "    def __init__(self,df,num_buckets=5):\n",
    "        df = df.sort_values('length').reset_index(drop=True)\n",
    "        self.size = len(df) // num_buckets\n",
    "        self.dfs = []\n",
    "        for bucket in range(num_buckets):\n",
    "            self.dfs.append(df.iloc[bucket*self.size:(bucket+1)*self.size - 1])\n",
    "        self.num_buckets = num_buckets\n",
    "        \n",
    "        #cursor[i] will be the cursor for the ith bucket\n",
    "        self.cursor = np.array([0] * num_buckets)\n",
    "        self.shuffle()\n",
    "        self.epochs = 0\n",
    "        \n",
    "    def shuffle(self):\n",
    "        #sorts dataframe by sequence length, but keeps it random within the same length\n",
    "        for i in range(self.num_buckets):\n",
    "            self.dfs[i] = self.dfs[i].sample(frac=1).reset_index(drop=True)\n",
    "            self.cursor[i] = 0\n",
    "    \n",
    "    def next_batch(self,n):\n",
    "        \n",
    "        if(np.any(self.cursor+n+1 > self.size)):\n",
    "            self.epochs += 1\n",
    "            self.shuffle()\n",
    "        \n",
    "        i = np.random.randint(0,self.num_buckets)\n",
    "    \n",
    "        res = self.dfs[i].iloc[self.cursor[i]:self.cursor[i]+n]\n",
    "        self.cursor[i] += n\n",
    "        \n",
    "        #Pad sequences with 0s so they are all the same length\n",
    "        maxlen = max(res['length'])\n",
    "        x = np.zeros([n,maxlen],dtype=np.int32)\n",
    "        for i,x_i in enumerate(x):\n",
    "            x_i[:res['length'].values[i]] = res['as_numbers'].values[i]\n",
    "        \n",
    "        return x,res['gender']*3 + res['age_bracket'], res['length']"
   ]
  },
  {
   "cell_type": "code",
   "execution_count": 12,
   "metadata": {},
   "outputs": [
    {
     "name": "stdout",
     "output_type": "stream",
     "text": [
      "Input sequences\n",
      " [[  82 5021  209  116  118   21    0    6 1078   45    6    9   17  220\n",
      "    25    0    0    0]\n",
      " [  43   54   17   28   55  127  205  395    1   54   17   11    0    2\n",
      "    39    0    0    0]\n",
      " [4813   16 7447    7  213  791 1981   19    8    7    0  379    9   85\n",
      "     7    0  298    2]]\n",
      "\n"
     ]
    }
   ],
   "source": [
    "data = BucketedDataIterator(train)\n",
    "d = data.next_batch(3)\n",
    "print('Input sequences\\n',d[0],end='\\n\\n')"
   ]
  },
  {
   "cell_type": "markdown",
   "metadata": {},
   "source": [
    "## Model"
   ]
  },
  {
   "cell_type": "code",
   "execution_count": 28,
   "metadata": {
    "collapsed": true
   },
   "outputs": [],
   "source": [
    "def reset_graph():\n",
    "    if 'sess' in globals() and sess:\n",
    "        sess.close()\n",
    "    tf.reset_default_graph()\n",
    "    \n",
    "def build_graph(vocab_size = len(vocab), state_size = 64, batch_size = 256, num_classes = 6):\n",
    "    \n",
    "    reset_graph()\n",
    "    \n",
    "    #Placeholders\n",
    "    x = tf.placeholder(tf.int32,[batch_size,None]) #[batch_size, num_steps]\n",
    "    seqlen = tf.placeholder(tf.int32,[batch_size])\n",
    "    y = tf.placeholder(tf.int32,[batch_size])\n",
    "    keep_prob = tf.placeholder(1.0,name='keep_prob')\n",
    "    \n",
    "    #Tile the target indices\n",
    "    y_ = tf.tile(tf.expand_dims(y,1),[1,tf.shape(x)[1]]) #[batch_size,num_steps]\n",
    "    \n",
    "    #Create a mask that we will use for the cost function\n",
    "    lower_triangular_ones = tf.constant(value=np.tril(np.ones([MAX_SEQ_LEN,MAX_SEQ_LEN])),dtype=tf.float32)\n",
    "    seqlen_mask = tf.slice(tf.gather(lower_triangular_ones,seqlen-1),[0,0],[batch_size,tf.reduce_max(seqlen)])\n",
    "    \n",
    "    #Embedding layer\n",
    "    embeddings = tf.get_variable('embedding_matrix',[vocab_size,state_size])\n",
    "    rnn_inputs = tf.nn.embedding_lookup(embeddings,x)\n",
    "    \n",
    "    #RNN\n",
    "    cell = tf.nn.rnn_cell.GRUCell(state_size)\n",
    "    init_state = tf.get_variable('init_state',[1,state_size],initializer=tf.constant_initializer(0.0))\n",
    "    init_state = tf.tile(init_state,[batch_size,1])\n",
    "    rnn_outputs, final_state = tf.nn.dynamic_rnn(cell,rnn_inputs,sequence_length=seqlen,initial_state=init_state)\n",
    "    rnn_outputs = tf.nn.dropout(rnn_outputs,keep_prob) #Dropout\n",
    "    \n",
    "    #Last revelant output no needed anymore\n",
    "    #last_rnn_output = tf.gather_nd(rnn_outputs,tf.stack([tf.range(batch_size),seqlen-1],axis=1))\n",
    "    \n",
    "    #Reshape rnn_outputs and y\n",
    "    rnn_outputs = tf.reshape(rnn_outputs,[-1,state_size])\n",
    "    y_reshaped = tf.reshape(y_,[-1])\n",
    "    \n",
    "    #Softmax layer - Prediction\n",
    "    with tf.variable_scope('softmax'):\n",
    "        W = tf.get_variable('W',[state_size,num_classes])\n",
    "        b = tf.get_variable('b',[num_classes],initializer=tf.constant_initializer(0.0))\n",
    "    logits = tf.matmul(rnn_outputs,W) + b\n",
    "    preds = tf.nn.softmax(logits)\n",
    "    \n",
    "    #To calculate number correct, we want to count padded steps as incorrect\n",
    "    correct = tf.cast(tf.equal(tf.cast(tf.argmax(preds,1),tf.int32), y_reshaped),tf.int32) *\\\n",
    "                tf.cast(tf.reshape(seqlen_mask, [-1]),tf.int32)\n",
    "    \n",
    "    \n",
    "    \n",
    "    #To calculate accuracy we want to divide by the number of non-paded time-steps, rather than taking the mean\n",
    "    accuracy = tf.reduce_sum(tf.cast(correct,tf.float32)) / tf.reduce_sum(tf.cast(seqlen,tf.float32))\n",
    "    \n",
    "    loss = tf.nn.sparse_softmax_cross_entropy_with_logits(logits=logits,labels=y_reshaped)\n",
    "    loss = loss * tf.reshape(seqlen_mask,[-1])\n",
    "    \n",
    "    #To calculate average loss we need to divide by number of non-padded time-steps, rather than taking the mean\n",
    "    loss = tf.reduce_sum(loss) / tf.reduce_sum(seqlen_mask)\n",
    "    \n",
    "    #Optimizer\n",
    "    train_step = tf.train.AdamOptimizer(1e-4).minimize(loss)\n",
    "    \n",
    "    ret_dict = {'x':x,'seqlen':seqlen,'y':y,'dropout':keep_prob,'loss':loss,'ts':train_step,'preds':preds,'accuracy':accuracy}\n",
    "    \n",
    "    return ret_dict"
   ]
  },
  {
   "cell_type": "markdown",
   "metadata": {},
   "source": [
    "## Train function"
   ]
  },
  {
   "cell_type": "code",
   "execution_count": 29,
   "metadata": {
    "collapsed": true
   },
   "outputs": [],
   "source": [
    "def train_graph(graph,batch_size = 256, num_epochs = 10, iterator=BucketedDataIterator):\n",
    "    with tf.Session() as sess:\n",
    "        tf.global_variables_initializer().run()\n",
    "        tr = iterator(train)\n",
    "        te = iterator(test)\n",
    "        \n",
    "        step,accuracy = 0,0\n",
    "        tr_losses,te_losses = [],[]\n",
    "        current_epoch = 0\n",
    "        \n",
    "        while current_epoch < num_epochs:\n",
    "            step += 1\n",
    "            batch = tr.next_batch(batch_size)\n",
    "            feed = {g['x']:batch[0],g['y']:batch[1],g['seqlen']:batch[2],g['dropout']:0.6}\n",
    "            \n",
    "            accuracy_,_ = sess.run([g['accuracy'],g['ts']],feed_dict = feed)\n",
    "            accuracy += accuracy_\n",
    "            \n",
    "            if(tr.epochs > current_epoch):\n",
    "                current_epoch += 1\n",
    "                tr_losses.append(accuracy/step)\n",
    "                step,accuracy = 0,0\n",
    "                \n",
    "                #eval test set\n",
    "                te_epoch = te.epochs\n",
    "                while (te.epochs == te_epoch):\n",
    "                    step =+ 1\n",
    "                    batch = te.next_batch(batch_size)\n",
    "                    feed = {g['x']:batch[0],g['y']:batch[1],g['seqlen']:batch[2],g['dropout']:1.0}\n",
    "                    accuracy_ = sess.run([g['accuracy']],feed_dict = feed)[0]\n",
    "                    accuracy += accuracy_\n",
    "                    \n",
    "                te_losses.append(accuracy/step)\n",
    "                step,accuracy = 0,0\n",
    "                print('Accuracy after epoch',current_epoch,\" - tr:\", tr_losses[-1],\" -te:\", te_losses[-1])\n",
    "                \n",
    "    return tr_losses,te_losses"
   ]
  },
  {
   "cell_type": "markdown",
   "metadata": {},
   "source": [
    "## Train & Test"
   ]
  },
  {
   "cell_type": "code",
   "execution_count": 30,
   "metadata": {
    "collapsed": true
   },
   "outputs": [],
   "source": [
    "g = build_graph(state_size=STATE_SIZE,batch_size=BATCH_SIZE)"
   ]
  },
  {
   "cell_type": "code",
   "execution_count": 31,
   "metadata": {},
   "outputs": [
    {
     "name": "stdout",
     "output_type": "stream",
     "text": [
      "Accuracy after epoch 1  - tr: 0.22006205223  -te: 14.8814923018\n",
      "Accuracy after epoch 2  - tr: 0.23790044311  -te: 15.3518848717\n",
      "Accuracy after epoch 3  - tr: 0.274168842421  -te: 14.7157956362\n",
      "Accuracy after epoch 4  - tr: 0.288378841404  -te: 15.2641283125\n",
      "Accuracy after epoch 5  - tr: 0.296289797159  -te: 16.6624484658\n",
      "Accuracy after epoch 6  - tr: 0.303212320251  -te: 13.0666888058\n",
      "Accuracy after epoch 7  - tr: 0.307922588902  -te: 13.9947309792\n",
      "Accuracy after epoch 8  - tr: 0.314735962609  -te: 17.2314655781\n",
      "Accuracy after epoch 9  - tr: 0.323095282339  -te: 14.3281701207\n",
      "Accuracy after epoch 10  - tr: 0.331531378601  -te: 16.4985881597\n"
     ]
    },
    {
     "data": {
      "text/plain": [
       "([0.2200620522304457,\n",
       "  0.23790044311007022,\n",
       "  0.2741688424213366,\n",
       "  0.28837884140425712,\n",
       "  0.29628979715895143,\n",
       "  0.3032123202513039,\n",
       "  0.30792258890165436,\n",
       "  0.31473596260902731,\n",
       "  0.32309528233913276,\n",
       "  0.33153137860113174],\n",
       " [14.881492301821709,\n",
       "  15.351884871721268,\n",
       "  14.715795636177063,\n",
       "  15.264128312468529,\n",
       "  16.662448465824127,\n",
       "  13.066688805818558,\n",
       "  13.994730979204178,\n",
       "  17.231465578079224,\n",
       "  14.328170120716095,\n",
       "  16.498588159680367])"
      ]
     },
     "execution_count": 31,
     "metadata": {},
     "output_type": "execute_result"
    }
   ],
   "source": [
    "train_graph(g,batch_size=BATCH_SIZE,num_epochs=NUM_EPOCHS)"
   ]
  }
 ],
 "metadata": {
  "kernelspec": {
   "display_name": "Python 3",
   "language": "python",
   "name": "python3"
  },
  "language_info": {
   "codemirror_mode": {
    "name": "ipython",
    "version": 3
   },
   "file_extension": ".py",
   "mimetype": "text/x-python",
   "name": "python",
   "nbconvert_exporter": "python",
   "pygments_lexer": "ipython3",
   "version": "3.5.3"
  }
 },
 "nbformat": 4,
 "nbformat_minor": 2
}
